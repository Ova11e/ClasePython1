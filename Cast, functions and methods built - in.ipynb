{
 "cells": [
  {
   "cell_type": "markdown",
   "metadata": {},
   "source": [
    "# Funtions with cast"
   ]
  },
  {
   "cell_type": "code",
   "execution_count": 6,
   "metadata": {},
   "outputs": [
    {
     "name": "stdout",
     "output_type": "stream",
     "text": [
      "<class 'float'>\n",
      "<class 'int'>\n",
      "<class 'float'>\n",
      "<class 'float'>\n",
      "ahora el boleanbo que era 1 es un True\n",
      "ahora el boleanbo que era 0 es un False\n"
     ]
    }
   ],
   "source": [
    "#pasar de decimal float a entero\n",
    "a = 2.0 \n",
    "print (type(a))\n",
    "enteroDea = int (a)\n",
    "print (type(enteroDea))\n",
    "#pasar de entero a decimal\n",
    "floatNuevo = float(enteroDea)\n",
    "print(type(floatNuevo))\n",
    "#string de un número\n",
    "stringDeUnNumero = \"12.5\"\n",
    "floatDelString =float (stringDeUnNumero)\n",
    "print(type(floatDelString))\n",
    "\n",
    "#boleano \n",
    "booleano1 = 1\n",
    "booleano2 = 0\n",
    "print (\"ahora el boleanbo que era 1 es un\", bool(booleano1))\n",
    "print (\"ahora el boleanbo que era 0 es un\", bool(booleano2))"
   ]
  },
  {
   "cell_type": "code",
   "execution_count": 15,
   "metadata": {},
   "outputs": [
    {
     "name": "stdout",
     "output_type": "stream",
     "text": [
      "el numero de la lista1 es 726756\n",
      "el numero minimo de la lista1 es 5\n",
      "el numero complejo de 12 es (12+0j)\n",
      "la lista1 ordenada en ascendente es [5, 12, 45, 67, 526, 626, 7562, 7627, 726756]\n",
      "la lista1 ordenada en ascendente es [726756, 7627, 7562, 626, 526, 67, 45, 12, 5]\n"
     ]
    }
   ],
   "source": [
    "lista1 = (12,45,526,626,5,7562,67,726756,7627)\n",
    "print (\"el numero de la lista1 es\",max(lista1))\n",
    "print (\"el numero minimo de la lista1 es\",min(lista1))\n",
    "print(\"el numero complejo de\", lista1[0],\"es\", complex (lista1[0]))\n",
    "print(\"la lista1 ordenada en ascendente es\", sorted(lista1,reverse=False))\n",
    "print(\"la lista1 ordenada en ascendente es\", sorted(lista1,reverse=True))\n"
   ]
  },
  {
   "cell_type": "code",
   "execution_count": 20,
   "metadata": {},
   "outputs": [
    {
     "name": "stdout",
     "output_type": "stream",
     "text": [
      "@\n"
     ]
    },
    {
     "data": {
      "text/plain": [
       "80.23"
      ]
     },
     "execution_count": 20,
     "metadata": {},
     "output_type": "execute_result"
    }
   ],
   "source": [
    "print(chr(64)) #funcion para imprimir o trabajar los caracteres del teclado numerico\n",
    "round(80.23456, 2) #redondea un número entero o decimal\n"
   ]
  },
  {
   "cell_type": "markdown",
   "metadata": {},
   "source": [
    "# methods "
   ]
  },
  {
   "cell_type": "code",
   "execution_count": 28,
   "metadata": {},
   "outputs": [
    {
     "name": "stdout",
     "output_type": "stream",
     "text": [
      "2\n",
      "2\n",
      "sergió\n"
     ]
    }
   ],
   "source": [
    "listaLetras = [\"sergio\",\"roy\",\"andres\",\"camila\",\"sergio\"]\n",
    "posicionA = listaLetras.index(\"andres\") # .index funciona como un buscador de texto\n",
    "print(posicionA)\n",
    "repeticionSergio = listaLetras.count(\"sergio\")\n",
    "print(repeticionSergio)\n",
    "listaCorrecta = listaLetras[listaLetras.index(\"sergio\")].replace(\"o\",\"ó\")\n",
    "listaLetras[listaLetras.index(\"sergio\")]= listaCorrecta\n",
    "print(listaCorrecta) #reemplazar caracter dentro de la lista\n"
   ]
  }
 ],
 "metadata": {
  "kernelspec": {
   "display_name": "Python 3",
   "language": "python",
   "name": "python3"
  },
  "language_info": {
   "codemirror_mode": {
    "name": "ipython",
    "version": 3
   },
   "file_extension": ".py",
   "mimetype": "text/x-python",
   "name": "python",
   "nbconvert_exporter": "python",
   "pygments_lexer": "ipython3",
   "version": "3.6.6"
  }
 },
 "nbformat": 4,
 "nbformat_minor": 2
}
