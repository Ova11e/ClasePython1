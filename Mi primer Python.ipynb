{
 "cells": [
  {
   "cell_type": "markdown",
   "metadata": {},
   "source": [
    "# Title\n",
    "## Subtitle\n",
    "### Subsubtitle\n",
    "#### Subsubtitle\n",
    "**negrita**\n",
    "*cursiva*\n",
    "\n",
    "    Este es mi primer código en Python donde apredere varialbles. dipos de variables, imprimir en consola y sobre tipos de variables \"listas\""
   ]
  },
  {
   "cell_type": "code",
   "execution_count": 24,
   "metadata": {
    "scrolled": true
   },
   "outputs": [
    {
     "data": {
      "text/plain": [
       "' hola perros \\nquemsldmada\\n\\nqe\\nasda\\n\\nd\\nwd\\nq \\n\\n'"
      ]
     },
     "execution_count": 24,
     "metadata": {},
     "output_type": "execute_result"
    }
   ],
   "source": [
    "# de esta forma se eleva un número a una potencia\n",
    "\n",
    "\"\"\" hola\n",
    "quemsldmada\n",
    "\n",
    "qe\n",
    "asda\n",
    "\n",
    "d\n",
    "wd\n",
    "q \n",
    "\n",
    "\"\"\""
   ]
  },
  {
   "cell_type": "code",
   "execution_count": 28,
   "metadata": {},
   "outputs": [
    {
     "name": "stdout",
     "output_type": "stream",
     "text": [
      "8\n",
      "1\n",
      "esto es la división de 3 divido 2 1\n"
     ]
    }
   ],
   "source": [
    "#potencia\n",
    "2 ** 3\n",
    "#Esto es una division\n",
    "potencia = 2 ** 3\n",
    "resto = 3%2\n",
    "#imprimir resultado\n",
    "print(potencia)\n",
    "print(resto)\n",
    "\n",
    "#combinar texto y número en el print\n",
    "print(\"esto es la división de 3 divido 2\",resto)\n"
   ]
  },
  {
   "cell_type": "code",
   "execution_count": null,
   "metadata": {},
   "outputs": [],
   "source": []
  }
 ],
 "metadata": {
  "kernelspec": {
   "display_name": "Python 3",
   "language": "python",
   "name": "python3"
  },
  "language_info": {
   "codemirror_mode": {
    "name": "ipython",
    "version": 3
   },
   "file_extension": ".py",
   "mimetype": "text/x-python",
   "name": "python",
   "nbconvert_exporter": "python",
   "pygments_lexer": "ipython3",
   "version": "3.6.6"
  }
 },
 "nbformat": 4,
 "nbformat_minor": 2
}
