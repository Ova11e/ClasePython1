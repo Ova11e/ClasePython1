{
 "cells": [
  {
   "cell_type": "markdown",
   "metadata": {},
   "source": [
    "# Numpy"
   ]
  },
  {
   "cell_type": "code",
   "execution_count": 12,
   "metadata": {},
   "outputs": [
    {
     "name": "stdout",
     "output_type": "stream",
     "text": [
      "([1, 2, 3], [4, 5, 6], [7, 8, 9]) \n",
      " -----\n",
      "3 \n",
      " -----\n",
      "[[1 2 3]\n",
      " [4 5 6]\n",
      " [7 8 9]] \n",
      " -----\n",
      "<class 'numpy.ndarray'> \n",
      " -----\n",
      "(3, 3)\n",
      "9\n"
     ]
    }
   ],
   "source": [
    "#alias a las librerias \"as\"\n",
    "import numpy as np\n",
    "\n",
    "a = [1,2,3],[4,5,6],[7,8,9]\n",
    "b = [\"name\",False, 3.0, 4]\n",
    "#convertir lista a tipo arreglo\n",
    "numpyCorrecto = np.array(a)\n",
    "print(a, \"\\n -----\")\n",
    "print(len(a), \"\\n -----\")\n",
    "print(numpyCorrecto, \"\\n -----\")\n",
    "print (type(numpyCorrecto), \"\\n -----\") \n",
    "print (numpyCorrecto.shape) #obtener el tamaño de la matriz\n",
    "print (numpyCorrecto[2][2]) #manera de acceder a la matriz con las coordenadas"
   ]
  },
  {
   "cell_type": "code",
   "execution_count": 15,
   "metadata": {},
   "outputs": [
    {
     "name": "stdout",
     "output_type": "stream",
     "text": [
      "['name' 'False' '3.0' '4']\n",
      "15 \n",
      " -----\n",
      "[[ 1  2  3]\n",
      " [ 4 15  6]\n",
      " [ 7  8 19]]\n",
      "9\n"
     ]
    }
   ],
   "source": [
    "\n",
    "print(np.array(b))\n",
    "\n",
    "print(numpyCorrecto[1][1],\"\\n -----\")\n",
    "numpyCorrecto [1][1] = 15\n",
    "numpyCorrecto [2,2] = 19\n",
    "print(numpyCorrecto)\n",
    "print(numpyCorrecto.size)"
   ]
  },
  {
   "cell_type": "code",
   "execution_count": 17,
   "metadata": {},
   "outputs": [
    {
     "name": "stdout",
     "output_type": "stream",
     "text": [
      "[1 2 3] \n",
      " -----\n",
      "(3,) \n",
      " -----\n",
      "[[1 2 3]\n",
      " [4 5 6]] \n",
      " -----\n",
      "(2, 3) \n",
      " -----\n",
      "[[[ 1  2  3]\n",
      "  [ 4  5  6]]\n",
      "\n",
      " [[ 7  8  9]\n",
      "  [10 11 12]]] \n",
      " -----\n",
      "(2, 2, 3) \n",
      " -----\n"
     ]
    }
   ],
   "source": [
    "lista1dimensiones = [1,2,3] # lista de una dimension\n",
    "lista2dimensiones = [[1,2,3],[4,5,6]] #dos dimensiones\n",
    "lista3dimensiones = [[[1,2,3],[4,5,6]],[[7,8,9],[10,11,12]]] #tres dimensiones\n",
    "\n",
    "numpy1dimension= np.array(lista1dimensiones)\n",
    "numpy2dimension= np.array(lista2dimensiones)\n",
    "numpy3dimension= np.array(lista3dimensiones)\n",
    "\n",
    "print(numpy1dimension, \"\\n -----\")\n",
    "print(numpy1dimension.shape, \"\\n -----\")\n",
    "\n",
    "\n",
    "print(numpy2dimension, \"\\n -----\")\n",
    "print(numpy2dimension.shape, \"\\n -----\")\n",
    "\n",
    "\n",
    "print(numpy3dimension, \"\\n -----\")\n",
    "print(numpy3dimension.shape, \"\\n -----\")\n",
    "\n"
   ]
  }
 ],
 "metadata": {
  "kernelspec": {
   "display_name": "Python 3",
   "language": "python",
   "name": "python3"
  },
  "language_info": {
   "codemirror_mode": {
    "name": "ipython",
    "version": 3
   },
   "file_extension": ".py",
   "mimetype": "text/x-python",
   "name": "python",
   "nbconvert_exporter": "python",
   "pygments_lexer": "ipython3",
   "version": "3.6.6"
  }
 },
 "nbformat": 4,
 "nbformat_minor": 2
}
