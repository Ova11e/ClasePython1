{
 "cells": [
  {
   "cell_type": "markdown",
   "metadata": {},
   "source": [
    "# Numpy"
   ]
  },
  {
   "cell_type": "code",
   "execution_count": 2,
   "metadata": {},
   "outputs": [
    {
     "name": "stdout",
     "output_type": "stream",
     "text": [
      "([1, 2, 3], [4, 5, 6], [7, 8, 9]) \n",
      " -----\n",
      "3 \n",
      " -----\n",
      "[[1 2 3]\n",
      " [4 5 6]\n",
      " [7 8 9]] \n",
      " -----\n",
      "<class 'numpy.ndarray'> \n",
      " -----\n",
      "(3, 3)\n",
      "9\n"
     ]
    }
   ],
   "source": [
    "#alias a las librerias \"as\"\n",
    "import numpy as np\n",
    "\n",
    "a = [1,2,3],[4,5,6],[7,8,9]\n",
    "b = [\"name\",False, 3.0, 4]\n",
    "#convertir lista a tipo arreglo\n",
    "numpyCorrecto = np.array(a)\n",
    "print(a, \"\\n -----\")\n",
    "print(len(a), \"\\n -----\")\n",
    "print(numpyCorrecto, \"\\n -----\")\n",
    "print (type(numpyCorrecto), \"\\n -----\") \n",
    "print (numpyCorrecto.shape) #obtener el tamaño de la matriz\n",
    "print (numpyCorrecto[2][2]) #manera de acceder a la matriz con las coordenadas"
   ]
  },
  {
   "cell_type": "code",
   "execution_count": 3,
   "metadata": {},
   "outputs": [
    {
     "name": "stdout",
     "output_type": "stream",
     "text": [
      "['name' 'False' '3.0' '4']\n",
      "5 \n",
      " -----\n",
      "[[ 1  2  3]\n",
      " [ 4 15  6]\n",
      " [ 7  8 19]]\n",
      "9\n"
     ]
    }
   ],
   "source": [
    "\n",
    "print(np.array(b))\n",
    "\n",
    "print(numpyCorrecto[1][1],\"\\n -----\")\n",
    "numpyCorrecto [1][1] = 15\n",
    "numpyCorrecto [2,2] = 19\n",
    "print(numpyCorrecto)\n",
    "print(numpyCorrecto.size)"
   ]
  },
  {
   "cell_type": "code",
   "execution_count": 4,
   "metadata": {},
   "outputs": [
    {
     "name": "stdout",
     "output_type": "stream",
     "text": [
      "[1 2 3] \n",
      " -----\n",
      "(3,) \n",
      " -----\n",
      "[[1 2 3]\n",
      " [4 5 6]] \n",
      " -----\n",
      "(2, 3) \n",
      " -----\n",
      "[[[ 1  2  3]\n",
      "  [ 4  5  6]]\n",
      "\n",
      " [[ 7  8  9]\n",
      "  [10 11 12]]] \n",
      " -----\n",
      "(2, 2, 3) \n",
      " -----\n"
     ]
    }
   ],
   "source": [
    "\n",
    "lista1dimensiones = [1,2,3] # lista de una dimension\n",
    "lista2dimensiones = [[1,2,3],[4,5,6]] #dos dimensiones\n",
    "lista3dimensiones = [[[1,2,3],[4,5,6]],[[7,8,9],[10,11,12]]] #tres dimensiones\n",
    "\n",
    "numpy1dimension= np.array(lista1dimensiones)\n",
    "numpy2dimension= np.array(lista2dimensiones)\n",
    "numpy3dimension= np.array(lista3dimensiones)\n",
    "\n",
    "print(numpy1dimension, \"\\n -----\")\n",
    "print(numpy1dimension.shape, \"\\n -----\")\n",
    "\n",
    "\n",
    "print(numpy2dimension, \"\\n -----\")\n",
    "print(numpy2dimension.shape, \"\\n -----\")\n",
    "\n",
    "\n",
    "print(numpy3dimension, \"\\n -----\")\n",
    "print(numpy3dimension.shape, \"\\n -----\")\n",
    "\n"
   ]
  },
  {
   "cell_type": "code",
   "execution_count": 5,
   "metadata": {},
   "outputs": [
    {
     "name": "stdout",
     "output_type": "stream",
     "text": [
      "[ 0  2  4  6  8 10 12 14 16]\n",
      "<class 'numpy.ndarray'>\n",
      "range(0, 20)\n",
      "(9,)\n",
      "[[ 0  2  4]\n",
      " [ 6  8 10]\n",
      " [12 14 16]]\n",
      "[[[ 0  1  2]\n",
      "  [ 3  4  5]\n",
      "  [ 6  7  8]]\n",
      "\n",
      " [[ 9 10 11]\n",
      "  [12 13 14]\n",
      "  [15 16 17]]\n",
      "\n",
      " [[18 19 20]\n",
      "  [21 22 23]\n",
      "  [24 25 26]]]\n",
      "[0 1 2 3 4 5 6 7 8]\n",
      "[ 0.    1.25  2.5   3.75  5.    6.25  7.5   8.75 10.  ]\n"
     ]
    }
   ],
   "source": [
    "array1 = np.arange (0, 18,2) #rango de vectores\n",
    "#2 dimensiones\n",
    "print(array1)\n",
    "print(type(array1))\n",
    "lista = range (0, 20)\n",
    "print(lista)\n",
    "\n",
    "print(array1.shape)\n",
    "\n",
    "nuevasDimensiones = array1.reshape(3,3)\n",
    "print (nuevasDimensiones)\n",
    "\n",
    "#3 dimensiones\n",
    "array2 = np.arange (0, 27,1)\n",
    "Dimensiones3D = array2.reshape(3,3,3) # \".reshape\" cambiar la dimensiones del vector\n",
    "print (Dimensiones3D)\n",
    "\n",
    "#ArrayTruncada = array2[0:9] se usan las llaves para mostrar el recorrido del primer vector\n",
    "# len() es para imprimir el resultado de una lista\n",
    "\n",
    "array3 = np.arange (0,9,1) # arange desde donde se quiere ir hasta el fin de donde se quiere y de cuanto en cuanto\n",
    "array4 = np.linspace (0,10,9) #divide el recorrido de manera equitativa, según el valor que se quiera mostrar y muestra la cantidad deseada\n",
    "print(array3)\n",
    "print(array4)\n",
    "\n"
   ]
  },
  {
   "cell_type": "code",
   "execution_count": 7,
   "metadata": {},
   "outputs": [
    {
     "name": "stdout",
     "output_type": "stream",
     "text": [
      "[0.         0.6981317  1.3962634  2.0943951  2.7925268  3.4906585\n",
      " 4.1887902  4.88692191 5.58505361 6.28318531]\n",
      "[ 0.00000000e+00  6.42787610e-01  9.84807753e-01  8.66025404e-01\n",
      "  3.42020143e-01 -3.42020143e-01 -8.66025404e-01 -9.84807753e-01\n",
      " -6.42787610e-01 -2.44929360e-16]\n"
     ]
    }
   ],
   "source": [
    "valoresDelSeno = np.linspace (0, 2*np.pi, 10) # 2*np.pi es el código para llmar PI, ej 2 PI\n",
    "print(valoresDelSeno)\n",
    "seno = np.sin(valoresDelSeno)\n",
    "print(seno)"
   ]
  },
  {
   "cell_type": "code",
   "execution_count": 11,
   "metadata": {},
   "outputs": [
    {
     "name": "stdout",
     "output_type": "stream",
     "text": [
      "[[4 6]\n",
      " [6 4]]\n"
     ]
    }
   ],
   "source": [
    "#multiplicación de matrices punto a punto\n",
    "arreglo1 = np.array ([[1,2],[3,4]])\n",
    "arreglo2 = np.array ([[4,3],[2,1]])\n",
    "print (arreglo1*arreglo2)"
   ]
  },
  {
   "cell_type": "code",
   "execution_count": 22,
   "metadata": {},
   "outputs": [
    {
     "name": "stdout",
     "output_type": "stream",
     "text": [
      "[[ 8  5]\n",
      " [20 13]] \n",
      "--------\n",
      "[[ 8  5]\n",
      " [20 13]] \n",
      "--------\n",
      "[[13 20]\n",
      " [ 5  8]] \n",
      "--------\n"
     ]
    }
   ],
   "source": [
    "#multiplicación matricial \n",
    "\n",
    "print(arreglo1.dot(arreglo2),\"\\n--------\")\n",
    "A = arreglo1.dot(arreglo2)\n",
    "B = arreglo2.dot(arreglo1)\n",
    "print(A,\"\\n--------\")\n",
    "print(B,\"\\n--------\")"
   ]
  },
  {
   "cell_type": "code",
   "execution_count": 18,
   "metadata": {},
   "outputs": [
    {
     "name": "stdout",
     "output_type": "stream",
     "text": [
      "[[5 5]\n",
      " [5 5]] \n",
      "--------\n",
      "[[-3 -1]\n",
      " [ 1  3]] \n",
      "--------\n",
      "[[ 1  4]\n",
      " [ 9 16]] \n",
      "--------\n"
     ]
    }
   ],
   "source": [
    "#suma de matrices\n",
    "print(arreglo1+arreglo2, \"\\n--------\")\n",
    "# resta\n",
    "print(arreglo1-arreglo2, \"\\n--------\")\n",
    "#elevación punto a punto\n",
    "print(arreglo1**2,\"\\n--------\")\n"
   ]
  },
  {
   "cell_type": "code",
   "execution_count": 41,
   "metadata": {},
   "outputs": [
    {
     "name": "stdout",
     "output_type": "stream",
     "text": [
      "[[ 8  5]\n",
      " [20 13]\n",
      " [13 20]\n",
      " [ 5  8]] \n",
      "--------\n",
      " [[ 8  5]\n",
      " [20 13]\n",
      " [13 20]\n",
      " [ 5  8]]\n",
      "esta dimensión corresponde a una concatenación horizontal (4, 2) \n",
      "\n",
      "[[ 8  5 13 20]\n",
      " [20 13  5  8]] \n",
      "--------\n",
      " [[ 8  5 13 20]\n",
      " [20 13  5  8]] \n",
      "--------\n",
      "\n",
      "esta dimensión corresponde a una concatenación horizontal (2, 4) \n",
      "\n"
     ]
    }
   ],
   "source": [
    "#concatenación de matrices verticalmente\n",
    "ConcatenadaVertical1 = np.vstack((A,B))\n",
    "ConcatenadaVertical2 = np.concatenate((A,B), axis = 0) # np.concatenate es para \n",
    "print (ConcatenadaVertical1,\"\\n--------\\n\",ConcatenadaVertical1)\n",
    "print (\"esta dimensión corresponde a una concatenación horizontal\", ConcatenadaVertical1.shape, \"\\n\")\n",
    "#concatenación horizontal\n",
    "ConcatenadaHorizontal1 = np.hstack((A,B))\n",
    "ConcatenadaHorizontal2 = np.concatenate((A,B), axis = 1)\n",
    "print (ConcatenadaHorizontal1,\"\\n--------\\n\",ConcatenadaHorizontal2,\"\\n--------\\n\")\n",
    "print (\"esta dimensión corresponde a una concatenación horizontal\", ConcatenadaHorizontal1.shape, \"\\n\")\n"
   ]
  },
  {
   "cell_type": "code",
   "execution_count": 43,
   "metadata": {},
   "outputs": [
    {
     "name": "stdout",
     "output_type": "stream",
     "text": [
      "[[[ 8 13]\n",
      "  [ 5 20]]\n",
      "\n",
      " [[20  5]\n",
      "  [13  8]]] \n",
      " ----- \n",
      "\n",
      "(2, 2, 2)\n"
     ]
    }
   ],
   "source": [
    "#aumentar dimensiones\n",
    "AumentarDimension = np.dstack((A,B))\n",
    "print (AumentarDimension, \"\\n ----- \\n\")\n",
    "print (AumentarDimension.shape)"
   ]
  }
 ],
 "metadata": {
  "kernelspec": {
   "display_name": "Python 3",
   "language": "python",
   "name": "python3"
  },
  "language_info": {
   "codemirror_mode": {
    "name": "ipython",
    "version": 3
   },
   "file_extension": ".py",
   "mimetype": "text/x-python",
   "name": "python",
   "nbconvert_exporter": "python",
   "pygments_lexer": "ipython3",
   "version": "3.6.6"
  }
 },
 "nbformat": 4,
 "nbformat_minor": 2
}
