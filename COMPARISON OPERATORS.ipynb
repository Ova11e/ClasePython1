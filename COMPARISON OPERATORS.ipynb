{
 "cells": [
  {
   "cell_type": "markdown",
   "metadata": {},
   "source": [
    "# Comparison Operators"
   ]
  },
  {
   "cell_type": "code",
   "execution_count": 1,
   "metadata": {},
   "outputs": [
    {
     "name": "stdout",
     "output_type": "stream",
     "text": [
      "True\n",
      "True\n",
      "False\n",
      "True\n"
     ]
    }
   ],
   "source": [
    "mayorQ= 5>3\n",
    "print(mayorQ)\n",
    "menorQ = 3<5\n",
    "print (menorQ)\n",
    "diferenteD = 3!= 3\n",
    "print (diferenteD)\n",
    "igual = 3== 3 \n",
    "print(igual)\n"
   ]
  },
  {
   "cell_type": "code",
   "execution_count": 2,
   "metadata": {},
   "outputs": [
    {
     "name": "stdout",
     "output_type": "stream",
     "text": [
      "True\n",
      "True\n",
      "True\n"
     ]
    }
   ],
   "source": [
    "print(\"sergio\">\"roy\")\n",
    "print(\"andres\"==\"andres\")\n",
    "print(3>2.5)\n"
   ]
  },
  {
   "cell_type": "code",
   "execution_count": 3,
   "metadata": {},
   "outputs": [
    {
     "ename": "NameError",
     "evalue": "name 'ArregloDePesos' is not defined",
     "output_type": "error",
     "traceback": [
      "\u001b[1;31m---------------------------------------------------------------------------\u001b[0m",
      "\u001b[1;31mNameError\u001b[0m                                 Traceback (most recent call last)",
      "\u001b[1;32m<ipython-input-3-7b8e9fb5bc3a>\u001b[0m in \u001b[0;36m<module>\u001b[1;34m\u001b[0m\n\u001b[0;32m      3\u001b[0m \u001b[0marregloDePesos\u001b[0m \u001b[1;33m=\u001b[0m \u001b[0mnp\u001b[0m\u001b[1;33m.\u001b[0m\u001b[0marray\u001b[0m\u001b[1;33m(\u001b[0m\u001b[0mlistaDePesos\u001b[0m\u001b[1;33m)\u001b[0m\u001b[1;33m.\u001b[0m\u001b[0mreshape\u001b[0m\u001b[1;33m(\u001b[0m\u001b[1;36m2\u001b[0m\u001b[1;33m,\u001b[0m\u001b[1;36m2\u001b[0m\u001b[1;33m)\u001b[0m\u001b[1;33m\u001b[0m\u001b[0m\n\u001b[0;32m      4\u001b[0m \u001b[1;33m\u001b[0m\u001b[0m\n\u001b[1;32m----> 5\u001b[1;33m \u001b[0mprint\u001b[0m \u001b[1;33m(\u001b[0m\u001b[0mArregloDePesos\u001b[0m\u001b[1;33m)\u001b[0m\u001b[1;33m\u001b[0m\u001b[0m\n\u001b[0m\u001b[0;32m      6\u001b[0m \u001b[1;33m\u001b[0m\u001b[0m\n\u001b[0;32m      7\u001b[0m \u001b[0mmascaraLogica\u001b[0m \u001b[1;33m=\u001b[0m \u001b[0mnp\u001b[0m\u001b[1;33m.\u001b[0m\u001b[0mlogical_and\u001b[0m\u001b[1;33m(\u001b[0m\u001b[0marregloDePesos\u001b[0m\u001b[1;33m>=\u001b[0m\u001b[1;36m1000\u001b[0m\u001b[1;33m,\u001b[0m \u001b[0marregloDePesos\u001b[0m\u001b[1;33m>\u001b[0m\u001b[1;36m1100\u001b[0m\u001b[1;33m)\u001b[0m\u001b[1;33m\u001b[0m\u001b[0m\n",
      "\u001b[1;31mNameError\u001b[0m: name 'ArregloDePesos' is not defined"
     ]
    }
   ],
   "source": [
    "import numpy as np\n",
    "listaDePesos = [1000,950,870,1200]\n",
    "arregloDePesos = np.array(listaDePesos).reshape(2,2)\n",
    "\n",
    "print (ArregloDePesos)\n",
    "\n",
    "mascaraLogica = np.logical_and(arregloDePesos>=1000, arregloDePesos>1100)\n",
    "print (mascaraLogica)\n",
    "print (arregloDePesos[mascaraLogica])"
   ]
  },
  {
   "cell_type": "markdown",
   "metadata": {},
   "source": [
    "# Logical gates (compuertas logiscas)"
   ]
  },
  {
   "cell_type": "code",
   "execution_count": null,
   "metadata": {},
   "outputs": [],
   "source": [
    "print(True or True)\n",
    "print(True or False)\n",
    "print(False or False)"
   ]
  },
  {
   "cell_type": "code",
   "execution_count": null,
   "metadata": {},
   "outputs": [],
   "source": [
    "print (True and True)\n",
    "print (False and True)\n",
    "print (False and False)\n"
   ]
  },
  {
   "cell_type": "code",
   "execution_count": null,
   "metadata": {},
   "outputs": [],
   "source": [
    "print(not False)\n",
    "print(not True)\n"
   ]
  },
  {
   "cell_type": "code",
   "execution_count": null,
   "metadata": {},
   "outputs": [],
   "source": [
    "#ejemplo\n",
    "edades = [36, 27, 25, 24, 22]\n",
    "print ( edades[0]>edades[1] and edades[0]>edades[2] and edades[0]>edades[3])\n",
    "\n",
    "print (edades[0]>25 or edades[1]>25 or edades[2]>25)\n"
   ]
  },
  {
   "cell_type": "markdown",
   "metadata": {},
   "source": [
    "# Condicionales\n"
   ]
  },
  {
   "cell_type": "code",
   "execution_count": 11,
   "metadata": {},
   "outputs": [
    {
     "name": "stdout",
     "output_type": "stream",
     "text": [
      "la casa es pequeña\n"
     ]
    }
   ],
   "source": [
    "area = 50\n",
    "if(area>50):\n",
    "    print(\"la cada es grandre\")\n",
    "elif (area<50 and area>40):\n",
    "    print(\"la casa el mediana\")\n",
    "else: \n",
    "    print(\"la casa es pequeña\")"
   ]
  },
  {
   "cell_type": "markdown",
   "metadata": {},
   "source": [
    "# loops"
   ]
  },
  {
   "cell_type": "code",
   "execution_count": 16,
   "metadata": {},
   "outputs": [
    {
     "name": "stdout",
     "output_type": "stream",
     "text": [
      "2.5\n",
      "0.625\n",
      "0.15625\n",
      "0.0390625\n"
     ]
    }
   ],
   "source": [
    "error = 10\n",
    "while error>0.1: # funcionara el ciclo mientras que se cumpla la condición colocada \n",
    "    error = error/4\n",
    "    print(error)"
   ]
  },
  {
   "cell_type": "code",
   "execution_count": 26,
   "metadata": {},
   "outputs": [
    {
     "name": "stdout",
     "output_type": "stream",
     "text": [
      "index 0: 1.73\n",
      "index 1: 1.68\n",
      "index 2: 1.71\n",
      "index 3: 1.89\n"
     ]
    }
   ],
   "source": [
    "#for\n",
    "farm = [1.73, 1.68, 1.71, 1.89]\n",
    "for valores in farm:\n",
    "    print(\"index {0}: {1}\".format(farm.index(valores), valores))\n",
    "    valores = valores * 2\n",
    "    \n"
   ]
  },
  {
   "cell_type": "code",
   "execution_count": 28,
   "metadata": {},
   "outputs": [
    {
     "name": "stdout",
     "output_type": "stream",
     "text": [
      "index 0 : 1.73\n",
      "index 1 : 1.68\n",
      "index 2 : 1.71\n",
      "index 3 : 1.89\n"
     ]
    }
   ],
   "source": [
    "    \n",
    "    farm = [1.73, 1.68, 1.71, 1.89]\n",
    "    for valores in farm:\n",
    "        print(\"index\", farm.index(valores), \":\", valores)\n",
    "    valores = valores * 2"
   ]
  },
  {
   "cell_type": "code",
   "execution_count": 31,
   "metadata": {},
   "outputs": [
    {
     "name": "stdout",
     "output_type": "stream",
     "text": [
      "0 1.73\n",
      "1 1.68\n",
      "2 1.71\n",
      "3 1.89\n"
     ]
    }
   ],
   "source": [
    "arregloFarm = np.array(farm)\n",
    "for index, value in enumerate(arregloFarm):\n",
    "    print(index, value)"
   ]
  },
  {
   "cell_type": "code",
   "execution_count": 38,
   "metadata": {},
   "outputs": [
    {
     "name": "stdout",
     "output_type": "stream",
     "text": [
      "(2, 5)\n",
      "index: 0 -- 180\n",
      "index: 1 -- 190\n",
      "index: 2 -- 200\n",
      "index: 3 -- 150\n",
      "index: 4 -- 195\n",
      "index: 5 -- 74\n",
      "index: 6 -- 72\n",
      "index: 7 -- 78\n",
      "index: 8 -- 80\n",
      "index: 9 -- 90\n"
     ]
    }
   ],
   "source": [
    "weight = [74, 72, 78, 80, 90]\n",
    "height = [180, 190, 200, 150, 195]\n",
    "np_height = np.array(height)\n",
    "np_weight = np.array(weight)\n",
    "np_baseball = np.vstack((np_height,np_weight))\n",
    "print (np_baseball.shape)\n",
    "# iterar entre valore np.nditer\n",
    "prueba = np.nditer (np_baseball) #muestra el valor de cada ciclo \n",
    "for index, value in enumerate(prueba):\n",
    "    print(\"index: {0} -- {1}\".format(index, value))"
   ]
  },
  {
   "cell_type": "code",
   "execution_count": 40,
   "metadata": {},
   "outputs": [
    {
     "name": "stdout",
     "output_type": "stream",
     "text": [
      "index: 0 -- [180 190 200 150 195]\n",
      "index: 1 -- [74 72 78 80 90]\n"
     ]
    }
   ],
   "source": [
    "#iterar sobre filas\n",
    "for index, rows in enumerate (np_baseball):\n",
    "    print(\"index: {0} -- {1}\".format(index,rows))"
   ]
  },
  {
   "cell_type": "code",
   "execution_count": 44,
   "metadata": {},
   "outputs": [
    {
     "name": "stdout",
     "output_type": "stream",
     "text": [
      "index: 0 -- [180  74]\n",
      "index: 1 -- [190  72]\n",
      "index: 2 -- [200  78]\n",
      "index: 3 -- [150  80]\n",
      "index: 4 -- [195  90]\n"
     ]
    }
   ],
   "source": [
    "#iterar sobre columnas\n",
    "for index, colums in enumerate(np_baseball.T): #matriz transpuesta es con .T\n",
    "    print(\"index: {0} -- {1}\".format(index, colums))"
   ]
  },
  {
   "cell_type": "markdown",
   "metadata": {},
   "source": [
    "# Ramdom numbers\n"
   ]
  },
  {
   "cell_type": "code",
   "execution_count": 46,
   "metadata": {},
   "outputs": [
    {
     "name": "stdout",
     "output_type": "stream",
     "text": [
      "[[0.13261196 0.56461203]]\n"
     ]
    }
   ],
   "source": [
    "print(np.random.rand(1,2)) #numeros entre 0 y 1 (filas, columnas)"
   ]
  },
  {
   "cell_type": "code",
   "execution_count": 66,
   "metadata": {},
   "outputs": [
    {
     "name": "stdout",
     "output_type": "stream",
     "text": [
      "0.417022004702574\n",
      "0.7203244934421581\n",
      "0.00011437481734488664\n"
     ]
    }
   ],
   "source": [
    "np.random.seed(1) #fijar la semilla para que los resultados impresos se vuelvan el mismo\n",
    "print (np.random.rand())\n",
    "print (np.random.rand())\n",
    "print (np.random.rand())"
   ]
  },
  {
   "cell_type": "code",
   "execution_count": 81,
   "metadata": {},
   "outputs": [
    {
     "name": "stdout",
     "output_type": "stream",
     "text": [
      "[7 4 3 5 3 7 8 2 1 1]\n"
     ]
    }
   ],
   "source": [
    "print(np.random.randint(1,10,10)) #manera corta de mostrar números al azar (valor inicial,valorfinal,cantidad de números a mostrar)\n"
   ]
  },
  {
   "cell_type": "code",
   "execution_count": 84,
   "metadata": {},
   "outputs": [
    {
     "name": "stdout",
     "output_type": "stream",
     "text": [
      "1\n",
      "2\n",
      "6\n",
      "5\n",
      "3\n",
      "2\n",
      "2\n",
      "4\n",
      "4\n",
      "3\n",
      "5\n",
      "4\n",
      "6\n",
      "5\n",
      "4\n",
      "5\n",
      "2\n",
      "5\n",
      "6\n",
      "2\n",
      "2\n",
      "4\n",
      "1\n",
      "5\n",
      "6\n",
      "3\n",
      "2\n",
      "5\n",
      "5\n",
      "5\n",
      "4\n",
      "6\n",
      "2\n",
      "4\n",
      "6\n",
      "3\n",
      "1\n",
      "5\n",
      "2\n",
      "3\n",
      "1\n",
      "4\n",
      "4\n",
      "3\n",
      "2\n",
      "1\n",
      "4\n",
      "6\n",
      "4\n"
     ]
    }
   ],
   "source": [
    "for azar in range(1,50):\n",
    "     x = np.random.randint(1,7)\n",
    "    print()\n",
    "    \n",
    "    "
   ]
  },
  {
   "cell_type": "code",
   "execution_count": null,
   "metadata": {},
   "outputs": [],
   "source": []
  }
 ],
 "metadata": {
  "kernelspec": {
   "display_name": "Python 3",
   "language": "python",
   "name": "python3"
  },
  "language_info": {
   "codemirror_mode": {
    "name": "ipython",
    "version": 3
   },
   "file_extension": ".py",
   "mimetype": "text/x-python",
   "name": "python",
   "nbconvert_exporter": "python",
   "pygments_lexer": "ipython3",
   "version": "3.6.6"
  }
 },
 "nbformat": 4,
 "nbformat_minor": 2
}
