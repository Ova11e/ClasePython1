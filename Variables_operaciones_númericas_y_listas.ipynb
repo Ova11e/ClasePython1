{
 "cells": [
  {
   "cell_type": "markdown",
   "metadata": {},
   "source": [
    "# Title\n",
    "## Subtitle\n",
    "### Subsubtitle\n",
    "#### Subsubtitle\n",
    "**negrita**\n",
    "*cursiva*\n",
    "\n",
    "    Este es mi primer código en Python donde apredere varialbles. dipos de variables, imprimir en consola y sobre tipos de variables \"listas\""
   ]
  },
  {
   "cell_type": "code",
   "execution_count": null,
   "metadata": {
    "scrolled": true
   },
   "outputs": [],
   "source": [
    "# de esta forma se eleva un número a una potencia\n",
    "\n",
    "\"\"\" hola\n",
    "quemsldmada\n",
    "\n",
    "qe\n",
    "asda\n",
    "\n",
    "d\n",
    "wd\n",
    "q \n",
    "\n",
    "\"\"\""
   ]
  },
  {
   "cell_type": "code",
   "execution_count": null,
   "metadata": {},
   "outputs": [],
   "source": [
    "#potencia\n",
    "2 ** 3\n",
    "#Esto es una division\n",
    "potencia = 2 ** 3\n",
    "resto = 3%2\n",
    "#imprimir resultado\n",
    "print(potencia)\n",
    "print(resto)\n",
    "\n",
    "#combinar texto y número en el print\n",
    "print(\"esto es la división de 3 divido 2\",resto)\n"
   ]
  },
  {
   "cell_type": "code",
   "execution_count": null,
   "metadata": {},
   "outputs": [],
   "source": [
    "#declarar el area de un cubo\n",
    "cube = 3.0\n",
    "message = \"The area of cube\"\n",
    "area = 2 * 3 * 6\n",
    "volume = (2 ** 3)\n",
    "data_cube = [cube, message, area, volume]\n",
    "print (data_cube)\n",
    "\n",
    "#lista de listas .. para una una dimensión\n",
    "B = [cube, message, area, volume]\n",
    "print(B)\n",
    "#len funciona como un type\n",
    "#tupla siempre con parentesis, no se puede modificar\n",
    "B[3] = True\n",
    "\n",
    "print (B)\n",
    "\n",
    "print(\"esta es la modificacion para el mensaje\",data_cube)\n",
    "#data_cube[1] = \"asdaf\"\n",
    "print(B[0:5])"
   ]
  },
  {
   "cell_type": "code",
   "execution_count": 2,
   "metadata": {},
   "outputs": [
    {
     "name": "stdout",
     "output_type": "stream",
     "text": [
      "[1, 6, 67, 7, 8]\n"
     ]
    }
   ],
   "source": [
    "lista1 = [1,2,3,6,5,4,67,6,6,7,32,55,8,345,845]\n",
    "lista2 = [4,5,6]\n",
    "resultado = [lista1[0]*lista2[0],lista1[1] * lista2[1], lista1[2] * lista2[2]]\n",
    "# : muestra todo el contenido en orden\n",
    "# :: - muestra todo el contenido a la inversa \n",
    "print(lista1[::3])"
   ]
  },
  {
   "cell_type": "code",
   "execution_count": 5,
   "metadata": {},
   "outputs": [
    {
     "name": "stdout",
     "output_type": "stream",
     "text": [
      "[1, 2, 3, 4, 5, 6, 7, 8, 9, 10]\n",
      "[1, 3, 5, 7, 9]\n",
      "[10, 9, 8, 7, 6, 5, 4, 3, 2, 1]\n",
      "[10, 8, 6, 4, 2]\n"
     ]
    }
   ],
   "source": [
    "lista1= [1,2,3,4,5,6,7,8,9,10]\n",
    "print(lista1) #Asi se imprime toda la lista\n",
    "print(lista1[::2])#asi se muestra la lista de dos en dos\n",
    "print(lista1[::-1])#asi se invierte la lista\n",
    "print(lista1[::-2])#asi se invierte la lista de dos en dos"
   ]
  },
  {
   "cell_type": "code",
   "execution_count": 10,
   "metadata": {},
   "outputs": [
    {
     "name": "stdout",
     "output_type": "stream",
     "text": [
      "[1, 2, 3, 4, 5, 6, 7, 8, 9, 10, 4, 5, 6]\n",
      "[1, 2, 3, 4, 5, 6, 7, 8, 9, 10, 4, 5, 6, 'valor adicional a la lista']\n"
     ]
    }
   ],
   "source": [
    "#añadir elementos a la lista\n",
    "listaExtendida = lista1 + lista2\n",
    "print(listaExtendida)\n",
    "#añadir solo un valor .append(añadir un valor)\n",
    "listaExtendida.append(\"valor adicional a la lista\")\n",
    "print(listaExtendida)"
   ]
  },
  {
   "cell_type": "code",
   "execution_count": 13,
   "metadata": {},
   "outputs": [
    {
     "name": "stdout",
     "output_type": "stream",
     "text": [
      "[1, 2, 3, 4, 5, 6, 7, 8, 9, 10, 'esta es una mala de copiar una lista', 'esta es una mala de copiar una lista']\n"
     ]
    }
   ],
   "source": [
    "# asi se copia una lista\n",
    "copyWrongLista1 = lista1\n",
    "copyWrongLista1.append(\"esta es una mala de copiar una lista\")\n",
    "print(copyWrongLista1)\n"
   ]
  },
  {
   "cell_type": "code",
   "execution_count": 14,
   "metadata": {},
   "outputs": [
    {
     "name": "stdout",
     "output_type": "stream",
     "text": [
      "[4, 5, 6]\n",
      "[4, 5, 6]\n"
     ]
    }
   ],
   "source": [
    "# copiar de manera correcta una lista\n",
    "copyGoodLista1 = list(lista2)\n",
    "copyGoodLista1 = list(lista2)\n",
    "print (copyGoodLista1)\n",
    "print (lista2)\n"
   ]
  }
 ],
 "metadata": {
  "kernelspec": {
   "display_name": "Python 3",
   "language": "python",
   "name": "python3"
  },
  "language_info": {
   "codemirror_mode": {
    "name": "ipython",
    "version": 3
   },
   "file_extension": ".py",
   "mimetype": "text/x-python",
   "name": "python",
   "nbconvert_exporter": "python",
   "pygments_lexer": "ipython3",
   "version": "3.6.6"
  }
 },
 "nbformat": 4,
 "nbformat_minor": 2
}
